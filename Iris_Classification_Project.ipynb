{
 "cells": [
  {
   "cell_type": "markdown",
   "id": "0dcff853",
   "metadata": {},
   "source": [
    "# 🌸 Iris Flower Classification\n",
    "Using Scikit-learn and your uploaded dataset."
   ]
  },
  {
   "cell_type": "code",
   "execution_count": null,
   "id": "0915f166",
   "metadata": {},
   "outputs": [],
   "source": [
    "# Step 1: Import Libraries\n",
    "import pandas as pd\n",
    "import numpy as np\n",
    "import seaborn as sns\n",
    "import matplotlib.pyplot as plt\n",
    "from sklearn.model_selection import train_test_split\n",
    "from sklearn.preprocessing import StandardScaler\n",
    "from sklearn.neighbors import KNeighborsClassifier\n",
    "from sklearn.metrics import classification_report, confusion_matrix, accuracy_score\n"
   ]
  },
  {
   "cell_type": "code",
   "execution_count": null,
   "id": "44265f6e",
   "metadata": {},
   "outputs": [],
   "source": [
    "# Step 2: Load the Dataset\n",
    "df = pd.read_csv(\"iris.csv\")\n",
    "df.head()\n"
   ]
  },
  {
   "cell_type": "code",
   "execution_count": null,
   "id": "5556d617",
   "metadata": {},
   "outputs": [],
   "source": [
    "# Step 3: Preprocessing\n",
    "df.drop(\"Id\", axis=1, inplace=True)\n",
    "\n",
    "# Encode species labels\n",
    "df[\"Species\"] = df[\"Species\"].map({\n",
    "    \"Iris-setosa\": 0,\n",
    "    \"Iris-versicolor\": 1,\n",
    "    \"Iris-virginica\": 2\n",
    "})\n",
    "\n",
    "# Define features and target\n",
    "X = df.drop(\"Species\", axis=1)\n",
    "y = df[\"Species\"]\n"
   ]
  },
  {
   "cell_type": "code",
   "execution_count": null,
   "id": "1802bae7",
   "metadata": {},
   "outputs": [],
   "source": [
    "# Step 4: Split the Dataset\n",
    "X_train, X_test, y_train, y_test = train_test_split(\n",
    "    X, y, test_size=0.3, random_state=42)\n"
   ]
  },
  {
   "cell_type": "code",
   "execution_count": null,
   "id": "ee2658e2",
   "metadata": {},
   "outputs": [],
   "source": [
    "# Step 5: Scale the Features\n",
    "scaler = StandardScaler()\n",
    "X_train = scaler.fit_transform(X_train)\n",
    "X_test = scaler.transform(X_test)\n"
   ]
  },
  {
   "cell_type": "code",
   "execution_count": null,
   "id": "798dc4bb",
   "metadata": {},
   "outputs": [],
   "source": [
    "# Step 6: Train KNN Classifier\n",
    "model = KNeighborsClassifier(n_neighbors=3)\n",
    "model.fit(X_train, y_train)\n"
   ]
  },
  {
   "cell_type": "code",
   "execution_count": null,
   "id": "05099bfe",
   "metadata": {},
   "outputs": [],
   "source": [
    "# Step 7: Make Predictions and Evaluate\n",
    "y_pred = model.predict(X_test)\n",
    "\n",
    "print(\"Accuracy:\", accuracy_score(y_test, y_pred))\n",
    "print(\"\\nClassification Report:\\n\", classification_report(y_test, y_pred))\n",
    "print(\"\\nConfusion Matrix:\\n\", confusion_matrix(y_test, y_pred))\n"
   ]
  },
  {
   "cell_type": "code",
   "execution_count": null,
   "id": "5b14e931",
   "metadata": {},
   "outputs": [],
   "source": [
    "# Step 8: Visualize Confusion Matrix\n",
    "sns.heatmap(confusion_matrix(y_test, y_pred), annot=True, fmt='d', cmap='Blues',\n",
    "            xticklabels=[\"Setosa\", \"Versicolor\", \"Virginica\"],\n",
    "            yticklabels=[\"Setosa\", \"Versicolor\", \"Virginica\"])\n",
    "plt.xlabel(\"Predicted\")\n",
    "plt.ylabel(\"Actual\")\n",
    "plt.title(\"Confusion Matrix\")\n",
    "plt.show()\n"
   ]
  }
 ],
 "metadata": {},
 "nbformat": 4,
 "nbformat_minor": 5
}